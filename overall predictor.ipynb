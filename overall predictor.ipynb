{
 "cells": [
  {
   "cell_type": "code",
   "execution_count": 1,
   "metadata": {},
   "outputs": [],
   "source": [
    "import pandas as pd\n",
    "df = pd.read_csv(\"fifa19_train.csv\")"
   ]
  },
  {
   "cell_type": "code",
   "execution_count": 3,
   "metadata": {},
   "outputs": [],
   "source": [
    "my_df=df[['quality','age','height', 'weight','position','intl_rep','pace', 'pace_acceleration', 'pace_sprint_speed',\n",
    "       'dribbling', 'drib_agility', 'drib_balance', 'drib_reactions',\n",
    "       'drib_ball_control', 'drib_dribbling', 'drib_composure', 'shooting',\n",
    "       'shoot_positioning', 'shoot_finishing', 'shoot_shot_power',\n",
    "       'shoot_long_shots', 'shoot_volleys', 'shoot_penalties', 'passing',\n",
    "       'pass_vision', 'pass_crossing', 'pass_free_kick', 'pass_short',\n",
    "       'pass_long', 'pass_curve', 'defending', 'def_interceptions',\n",
    "       'def_heading', 'def_marking', 'def_stand_tackle', 'def_slid_tackle',\n",
    "       'physicality', 'phys_jumping', 'phys_stamina', 'phys_strength',\n",
    "       'phys_aggression', 'gk_diving', 'gk_reflexes', 'gk_handling',\n",
    "       'gk_speed', 'gk_kicking', 'gk_positoning','pref_foot', 'att_workrate',\n",
    "       'def_workrate', 'weak_foot', 'skill_moves','cb', 'rb', 'lb', 'rwb',\n",
    "       'lwb', 'cdm', 'cm', 'rm', 'lm', 'cam', 'cf', 'rf', 'lf', 'rw', 'lw',\n",
    "       'st']]"
   ]
  },
  {
   "cell_type": "markdown",
   "metadata": {},
   "source": [
    "###### Preprocess"
   ]
  },
  {
   "cell_type": "code",
   "execution_count": 5,
   "metadata": {},
   "outputs": [],
   "source": [
    "my_df=my_df.fillna(0)"
   ]
  },
  {
   "cell_type": "code",
   "execution_count": 6,
   "metadata": {},
   "outputs": [],
   "source": [
    "my_df['quality']=pd.factorize(my_df['quality'])[0]\n",
    "my_df['position']=pd.factorize(my_df['position'])[0]\n",
    "my_df['pref_foot']=pd.factorize(my_df['pref_foot'])[0]\n",
    "my_df['def_workrate']=pd.factorize(my_df['def_workrate'])[0]\n",
    "my_df['att_workrate']=pd.factorize(my_df['att_workrate'])[0]"
   ]
  },
  {
   "cell_type": "code",
   "execution_count": 7,
   "metadata": {},
   "outputs": [],
   "source": [
    "my_df=my_df.astype(int)"
   ]
  },
  {
   "cell_type": "code",
   "execution_count": 8,
   "metadata": {},
   "outputs": [],
   "source": [
    "y=df['overall']"
   ]
  },
  {
   "cell_type": "markdown",
   "metadata": {},
   "source": [
    "###### Scaling the Data"
   ]
  },
  {
   "cell_type": "code",
   "execution_count": 9,
   "metadata": {},
   "outputs": [],
   "source": [
    "from sklearn.preprocessing import StandardScaler\n",
    "scaled = StandardScaler()\n",
    "X = scaled.fit_transform(my_df)"
   ]
  },
  {
   "cell_type": "code",
   "execution_count": 10,
   "metadata": {},
   "outputs": [],
   "source": [
    "from sklearn.model_selection import train_test_split\n",
    "X_train, X_test, y_train, y_test = train_test_split(X, y)"
   ]
  },
  {
   "cell_type": "markdown",
   "metadata": {},
   "source": [
    "###### Linear Regression"
   ]
  },
  {
   "cell_type": "code",
   "execution_count": 11,
   "metadata": {},
   "outputs": [],
   "source": [
    "from sklearn.linear_model import LinearRegression\n",
    "lin=LinearRegression().fit(X_train,y_train)\n",
    "y_pred=lin.predict(X_test)"
   ]
  },
  {
   "cell_type": "markdown",
   "metadata": {},
   "source": [
    "###### ElasticNet"
   ]
  },
  {
   "cell_type": "code",
   "execution_count": 12,
   "metadata": {},
   "outputs": [],
   "source": [
    "from sklearn.linear_model import ElasticNet\n",
    "enet=ElasticNet().fit(X_train,y_train)\n",
    "y_pred1=enet.predict(X_test)"
   ]
  },
  {
   "cell_type": "markdown",
   "metadata": {},
   "source": [
    "Lasso"
   ]
  },
  {
   "cell_type": "code",
   "execution_count": 13,
   "metadata": {},
   "outputs": [],
   "source": [
    "from sklearn.linear_model import Lasso\n",
    "las=Lasso().fit(X_train,y_train)\n",
    "y_pred2=las.predict(X_test)"
   ]
  },
  {
   "cell_type": "markdown",
   "metadata": {},
   "source": [
    "Decision Tree Regressor"
   ]
  },
  {
   "cell_type": "code",
   "execution_count": 14,
   "metadata": {},
   "outputs": [],
   "source": [
    "from sklearn.tree import DecisionTreeRegressor\n",
    "dtr=DecisionTreeRegressor().fit(X_train,y_train)\n",
    "y_pred3=dtr.predict(X_test)"
   ]
  },
  {
   "cell_type": "markdown",
   "metadata": {},
   "source": [
    "K Neighbors Regressor"
   ]
  },
  {
   "cell_type": "code",
   "execution_count": 15,
   "metadata": {},
   "outputs": [],
   "source": [
    "from sklearn.neighbors import KNeighborsRegressor\n",
    "knr=KNeighborsRegressor().fit(X_train,y_train)\n",
    "y_pred4=knr.predict(X_test)"
   ]
  },
  {
   "cell_type": "markdown",
   "metadata": {},
   "source": [
    "Gradient Boosting Regressor"
   ]
  },
  {
   "cell_type": "code",
   "execution_count": 16,
   "metadata": {},
   "outputs": [
    {
     "name": "stderr",
     "output_type": "stream",
     "text": [
      "/anaconda3/lib/python3.6/site-packages/sklearn/ensemble/weight_boosting.py:29: DeprecationWarning: numpy.core.umath_tests is an internal NumPy module and should not be imported. It will be removed in a future NumPy release.\n",
      "  from numpy.core.umath_tests import inner1d\n"
     ]
    }
   ],
   "source": [
    "from sklearn.ensemble import GradientBoostingRegressor\n",
    "gbr=GradientBoostingRegressor().fit(X_train,y_train)\n",
    "y_pred5=gbr.predict(X_test)"
   ]
  },
  {
   "cell_type": "markdown",
   "metadata": {},
   "source": [
    "Neural Network"
   ]
  },
  {
   "cell_type": "code",
   "execution_count": 17,
   "metadata": {},
   "outputs": [
    {
     "name": "stderr",
     "output_type": "stream",
     "text": [
      "Using TensorFlow backend.\n"
     ]
    },
    {
     "name": "stdout",
     "output_type": "stream",
     "text": [
      "WARNING:tensorflow:From /anaconda3/lib/python3.6/site-packages/tensorflow/python/framework/op_def_library.py:263: colocate_with (from tensorflow.python.framework.ops) is deprecated and will be removed in a future version.\n",
      "Instructions for updating:\n",
      "Colocations handled automatically by placer.\n",
      "WARNING:tensorflow:From /anaconda3/lib/python3.6/site-packages/tensorflow/python/ops/math_ops.py:3066: to_int32 (from tensorflow.python.ops.math_ops) is deprecated and will be removed in a future version.\n",
      "Instructions for updating:\n",
      "Use tf.cast instead.\n",
      "Epoch 1/200\n",
      "12710/12710 [==============================] - 0s 26us/step - loss: 3754.4240\n",
      "Epoch 2/200\n",
      "12710/12710 [==============================] - 0s 10us/step - loss: 1328.0721\n",
      "Epoch 3/200\n",
      "12710/12710 [==============================] - 0s 12us/step - loss: 559.6099\n",
      "Epoch 4/200\n",
      "12710/12710 [==============================] - 0s 11us/step - loss: 249.9438\n",
      "Epoch 5/200\n",
      "12710/12710 [==============================] - 0s 11us/step - loss: 139.1738\n",
      "Epoch 6/200\n",
      "12710/12710 [==============================] - 0s 9us/step - loss: 89.8417\n",
      "Epoch 7/200\n",
      "12710/12710 [==============================] - 0s 9us/step - loss: 61.6647\n",
      "Epoch 8/200\n",
      "12710/12710 [==============================] - 0s 11us/step - loss: 44.5196\n",
      "Epoch 9/200\n",
      "12710/12710 [==============================] - 0s 12us/step - loss: 34.2575\n",
      "Epoch 10/200\n",
      "12710/12710 [==============================] - 0s 11us/step - loss: 27.4513\n",
      "Epoch 11/200\n",
      "12710/12710 [==============================] - 0s 12us/step - loss: 22.6053\n",
      "Epoch 12/200\n",
      "12710/12710 [==============================] - 0s 13us/step - loss: 18.8062\n",
      "Epoch 13/200\n",
      "12710/12710 [==============================] - 0s 12us/step - loss: 15.7498\n",
      "Epoch 14/200\n",
      "12710/12710 [==============================] - 0s 11us/step - loss: 13.2572\n",
      "Epoch 15/200\n",
      "12710/12710 [==============================] - 0s 11us/step - loss: 11.1546\n",
      "Epoch 16/200\n",
      "12710/12710 [==============================] - 0s 11us/step - loss: 9.4534\n",
      "Epoch 17/200\n",
      "12710/12710 [==============================] - 0s 12us/step - loss: 8.0397\n",
      "Epoch 18/200\n",
      "12710/12710 [==============================] - 0s 12us/step - loss: 6.8780\n",
      "Epoch 19/200\n",
      "12710/12710 [==============================] - 0s 11us/step - loss: 5.9344\n",
      "Epoch 20/200\n",
      "12710/12710 [==============================] - 0s 13us/step - loss: 5.1846: 0s - loss: 5.5\n",
      "Epoch 21/200\n",
      "12710/12710 [==============================] - 0s 11us/step - loss: 4.5648\n",
      "Epoch 22/200\n",
      "12710/12710 [==============================] - 0s 12us/step - loss: 4.0409\n",
      "Epoch 23/200\n",
      "12710/12710 [==============================] - 0s 11us/step - loss: 3.6470\n",
      "Epoch 24/200\n",
      "12710/12710 [==============================] - 0s 12us/step - loss: 3.2964\n",
      "Epoch 25/200\n",
      "12710/12710 [==============================] - 0s 12us/step - loss: 2.9926\n",
      "Epoch 26/200\n",
      "12710/12710 [==============================] - 0s 10us/step - loss: 2.7517\n",
      "Epoch 27/200\n",
      "12710/12710 [==============================] - 0s 12us/step - loss: 2.5645\n",
      "Epoch 28/200\n",
      "12710/12710 [==============================] - 0s 12us/step - loss: 2.3550\n",
      "Epoch 29/200\n",
      "12710/12710 [==============================] - 0s 13us/step - loss: 2.2065\n",
      "Epoch 30/200\n",
      "12710/12710 [==============================] - 0s 12us/step - loss: 2.0758\n",
      "Epoch 31/200\n",
      "12710/12710 [==============================] - 0s 11us/step - loss: 1.9711\n",
      "Epoch 32/200\n",
      "12710/12710 [==============================] - 0s 11us/step - loss: 1.8675\n",
      "Epoch 33/200\n",
      "12710/12710 [==============================] - 0s 12us/step - loss: 1.7669\n",
      "Epoch 34/200\n",
      "12710/12710 [==============================] - 0s 10us/step - loss: 1.6970\n",
      "Epoch 35/200\n",
      "12710/12710 [==============================] - 0s 10us/step - loss: 1.6300\n",
      "Epoch 36/200\n",
      "12710/12710 [==============================] - 0s 10us/step - loss: 1.5663\n",
      "Epoch 37/200\n",
      "12710/12710 [==============================] - 0s 9us/step - loss: 1.5025\n",
      "Epoch 38/200\n",
      "12710/12710 [==============================] - 0s 9us/step - loss: 1.4446\n",
      "Epoch 39/200\n",
      "12710/12710 [==============================] - 0s 10us/step - loss: 1.4069\n",
      "Epoch 40/200\n",
      "12710/12710 [==============================] - 0s 9us/step - loss: 1.3454\n",
      "Epoch 41/200\n",
      "12710/12710 [==============================] - 0s 9us/step - loss: 1.3192\n",
      "Epoch 42/200\n",
      "12710/12710 [==============================] - 0s 8us/step - loss: 1.2807\n",
      "Epoch 43/200\n",
      "12710/12710 [==============================] - 0s 10us/step - loss: 1.2328\n",
      "Epoch 44/200\n",
      "12710/12710 [==============================] - 0s 9us/step - loss: 1.1936\n",
      "Epoch 45/200\n",
      "12710/12710 [==============================] - 0s 10us/step - loss: 1.1661\n",
      "Epoch 46/200\n",
      "12710/12710 [==============================] - 0s 9us/step - loss: 1.1401\n",
      "Epoch 47/200\n",
      "12710/12710 [==============================] - 0s 9us/step - loss: 1.1150\n",
      "Epoch 48/200\n",
      "12710/12710 [==============================] - 0s 10us/step - loss: 1.0786\n",
      "Epoch 49/200\n",
      "12710/12710 [==============================] - 0s 14us/step - loss: 1.0625\n",
      "Epoch 50/200\n",
      "12710/12710 [==============================] - 0s 16us/step - loss: 1.0584\n",
      "Epoch 51/200\n",
      "12710/12710 [==============================] - 0s 13us/step - loss: 1.0346\n",
      "Epoch 52/200\n",
      "12710/12710 [==============================] - 0s 10us/step - loss: 0.9983\n",
      "Epoch 53/200\n",
      "12710/12710 [==============================] - 0s 11us/step - loss: 0.9871\n",
      "Epoch 54/200\n",
      "12710/12710 [==============================] - 0s 10us/step - loss: 0.9727\n",
      "Epoch 55/200\n",
      "12710/12710 [==============================] - 0s 9us/step - loss: 0.9512\n",
      "Epoch 56/200\n",
      "12710/12710 [==============================] - 0s 10us/step - loss: 0.9351\n",
      "Epoch 57/200\n",
      "12710/12710 [==============================] - 0s 9us/step - loss: 0.9297\n",
      "Epoch 58/200\n",
      "12710/12710 [==============================] - 0s 9us/step - loss: 0.9219\n",
      "Epoch 59/200\n",
      "12710/12710 [==============================] - 0s 9us/step - loss: 0.9278\n",
      "Epoch 60/200\n",
      "12710/12710 [==============================] - 0s 9us/step - loss: 0.8959\n",
      "Epoch 61/200\n",
      "12710/12710 [==============================] - 0s 9us/step - loss: 0.8982\n",
      "Epoch 62/200\n",
      "12710/12710 [==============================] - 0s 12us/step - loss: 0.8602\n",
      "Epoch 63/200\n",
      "12710/12710 [==============================] - 0s 16us/step - loss: 0.8586\n",
      "Epoch 64/200\n",
      "12710/12710 [==============================] - 0s 13us/step - loss: 0.8617\n",
      "Epoch 65/200\n",
      "12710/12710 [==============================] - 0s 14us/step - loss: 0.8514\n",
      "Epoch 66/200\n",
      "12710/12710 [==============================] - 0s 10us/step - loss: 0.8383\n",
      "Epoch 67/200\n",
      "12710/12710 [==============================] - 0s 9us/step - loss: 0.8230\n",
      "Epoch 68/200\n",
      "12710/12710 [==============================] - 0s 9us/step - loss: 0.8290\n",
      "Epoch 69/200\n",
      "12710/12710 [==============================] - 0s 9us/step - loss: 0.8344\n",
      "Epoch 70/200\n",
      "12710/12710 [==============================] - 0s 11us/step - loss: 0.8118\n",
      "Epoch 71/200\n",
      "12710/12710 [==============================] - 0s 11us/step - loss: 0.7929\n",
      "Epoch 72/200\n",
      "12710/12710 [==============================] - 0s 12us/step - loss: 0.7993\n",
      "Epoch 73/200\n",
      "12710/12710 [==============================] - 0s 11us/step - loss: 0.7831\n",
      "Epoch 74/200\n",
      "12710/12710 [==============================] - 0s 11us/step - loss: 0.7727\n",
      "Epoch 75/200\n",
      "12710/12710 [==============================] - 0s 11us/step - loss: 0.7907\n",
      "Epoch 76/200\n",
      "12710/12710 [==============================] - 0s 12us/step - loss: 0.8078\n",
      "Epoch 77/200\n",
      "12710/12710 [==============================] - 0s 15us/step - loss: 0.7673\n",
      "Epoch 78/200\n",
      "12710/12710 [==============================] - 0s 13us/step - loss: 0.7618\n",
      "Epoch 79/200\n",
      "12710/12710 [==============================] - 0s 12us/step - loss: 0.7766\n",
      "Epoch 80/200\n",
      "12710/12710 [==============================] - 0s 13us/step - loss: 0.7592\n",
      "Epoch 81/200\n",
      "12710/12710 [==============================] - 0s 12us/step - loss: 0.7378\n",
      "Epoch 82/200\n",
      "12710/12710 [==============================] - 0s 11us/step - loss: 0.7602\n",
      "Epoch 83/200\n",
      "12710/12710 [==============================] - 0s 11us/step - loss: 0.7294\n",
      "Epoch 84/200\n",
      "12710/12710 [==============================] - 0s 13us/step - loss: 0.7488\n",
      "Epoch 85/200\n",
      "12710/12710 [==============================] - 0s 15us/step - loss: 0.7288\n",
      "Epoch 86/200\n",
      "12710/12710 [==============================] - 0s 13us/step - loss: 0.7243\n",
      "Epoch 87/200\n"
     ]
    },
    {
     "name": "stdout",
     "output_type": "stream",
     "text": [
      "12710/12710 [==============================] - 0s 10us/step - loss: 0.7335\n",
      "Epoch 88/200\n",
      "12710/12710 [==============================] - 0s 9us/step - loss: 0.7141\n",
      "Epoch 89/200\n",
      "12710/12710 [==============================] - 0s 10us/step - loss: 0.7274\n",
      "Epoch 90/200\n",
      "12710/12710 [==============================] - 0s 15us/step - loss: 0.7174\n",
      "Epoch 91/200\n",
      "12710/12710 [==============================] - 0s 10us/step - loss: 0.7200\n",
      "Epoch 92/200\n",
      "12710/12710 [==============================] - 0s 12us/step - loss: 0.7035\n",
      "Epoch 93/200\n",
      "12710/12710 [==============================] - 0s 9us/step - loss: 0.6876\n",
      "Epoch 94/200\n",
      "12710/12710 [==============================] - 0s 9us/step - loss: 0.7011\n",
      "Epoch 95/200\n",
      "12710/12710 [==============================] - 0s 17us/step - loss: 0.7068\n",
      "Epoch 96/200\n",
      "12710/12710 [==============================] - 0s 17us/step - loss: 0.7028\n",
      "Epoch 97/200\n",
      "12710/12710 [==============================] - 0s 12us/step - loss: 0.6975\n",
      "Epoch 98/200\n",
      "12710/12710 [==============================] - 0s 12us/step - loss: 0.6828\n",
      "Epoch 99/200\n",
      "12710/12710 [==============================] - 0s 10us/step - loss: 0.6897\n",
      "Epoch 100/200\n",
      "12710/12710 [==============================] - 0s 13us/step - loss: 0.6815\n",
      "Epoch 101/200\n",
      "12710/12710 [==============================] - 0s 14us/step - loss: 0.6823\n",
      "Epoch 102/200\n",
      "12710/12710 [==============================] - 0s 14us/step - loss: 0.6853\n",
      "Epoch 103/200\n",
      "12710/12710 [==============================] - 0s 13us/step - loss: 0.6735\n",
      "Epoch 104/200\n",
      "12710/12710 [==============================] - 0s 13us/step - loss: 0.6890\n",
      "Epoch 105/200\n",
      "12710/12710 [==============================] - 0s 12us/step - loss: 0.6768\n",
      "Epoch 106/200\n",
      "12710/12710 [==============================] - 0s 11us/step - loss: 0.6803\n",
      "Epoch 107/200\n",
      "12710/12710 [==============================] - 0s 12us/step - loss: 0.6714\n",
      "Epoch 108/200\n",
      "12710/12710 [==============================] - 0s 12us/step - loss: 0.6824\n",
      "Epoch 109/200\n",
      "12710/12710 [==============================] - 0s 11us/step - loss: 0.6629\n",
      "Epoch 110/200\n",
      "12710/12710 [==============================] - 0s 10us/step - loss: 0.6647\n",
      "Epoch 111/200\n",
      "12710/12710 [==============================] - 0s 11us/step - loss: 0.6659\n",
      "Epoch 112/200\n",
      "12710/12710 [==============================] - 0s 11us/step - loss: 0.6692\n",
      "Epoch 113/200\n",
      "12710/12710 [==============================] - 0s 12us/step - loss: 0.6606\n",
      "Epoch 114/200\n",
      "12710/12710 [==============================] - 0s 11us/step - loss: 0.6737\n",
      "Epoch 115/200\n",
      "12710/12710 [==============================] - 0s 12us/step - loss: 0.6578\n",
      "Epoch 116/200\n",
      "12710/12710 [==============================] - 0s 11us/step - loss: 0.6625\n",
      "Epoch 117/200\n",
      "12710/12710 [==============================] - 0s 10us/step - loss: 0.6467\n",
      "Epoch 118/200\n",
      "12710/12710 [==============================] - 0s 12us/step - loss: 0.6502\n",
      "Epoch 119/200\n",
      "12710/12710 [==============================] - 0s 11us/step - loss: 0.6419\n",
      "Epoch 120/200\n",
      "12710/12710 [==============================] - 0s 11us/step - loss: 0.6366\n",
      "Epoch 121/200\n",
      "12710/12710 [==============================] - 0s 9us/step - loss: 0.6341\n",
      "Epoch 122/200\n",
      "12710/12710 [==============================] - 0s 12us/step - loss: 0.6347\n",
      "Epoch 123/200\n",
      "12710/12710 [==============================] - 0s 14us/step - loss: 0.6339\n",
      "Epoch 124/200\n",
      "12710/12710 [==============================] - 0s 12us/step - loss: 0.6606\n",
      "Epoch 125/200\n",
      "12710/12710 [==============================] - 0s 12us/step - loss: 0.6483\n",
      "Epoch 126/200\n",
      "12710/12710 [==============================] - 0s 9us/step - loss: 0.6414\n",
      "Epoch 127/200\n",
      "12710/12710 [==============================] - 0s 11us/step - loss: 0.6291\n",
      "Epoch 128/200\n",
      "12710/12710 [==============================] - 0s 11us/step - loss: 0.6444\n",
      "Epoch 129/200\n",
      "12710/12710 [==============================] - 0s 10us/step - loss: 0.6633\n",
      "Epoch 130/200\n",
      "12710/12710 [==============================] - 0s 9us/step - loss: 0.6494\n",
      "Epoch 131/200\n",
      "12710/12710 [==============================] - 0s 10us/step - loss: 0.6446\n",
      "Epoch 132/200\n",
      "12710/12710 [==============================] - 0s 10us/step - loss: 0.6252\n",
      "Epoch 133/200\n",
      "12710/12710 [==============================] - 0s 10us/step - loss: 0.6287\n",
      "Epoch 134/200\n",
      "12710/12710 [==============================] - 0s 9us/step - loss: 0.6264\n",
      "Epoch 135/200\n",
      "12710/12710 [==============================] - 0s 9us/step - loss: 0.6244\n",
      "Epoch 136/200\n",
      "12710/12710 [==============================] - 0s 9us/step - loss: 0.6298\n",
      "Epoch 137/200\n",
      "12710/12710 [==============================] - 0s 10us/step - loss: 0.6227\n",
      "Epoch 138/200\n",
      "12710/12710 [==============================] - 0s 9us/step - loss: 0.6157\n",
      "Epoch 139/200\n",
      "12710/12710 [==============================] - 0s 9us/step - loss: 0.6367\n",
      "Epoch 140/200\n",
      "12710/12710 [==============================] - 0s 9us/step - loss: 0.6300\n",
      "Epoch 141/200\n",
      "12710/12710 [==============================] - 0s 9us/step - loss: 0.6201\n",
      "Epoch 142/200\n",
      "12710/12710 [==============================] - 0s 9us/step - loss: 0.6203\n",
      "Epoch 143/200\n",
      "12710/12710 [==============================] - 0s 10us/step - loss: 0.6101\n",
      "Epoch 144/200\n",
      "12710/12710 [==============================] - 0s 11us/step - loss: 0.6173\n",
      "Epoch 145/200\n",
      "12710/12710 [==============================] - 0s 10us/step - loss: 0.6149\n",
      "Epoch 146/200\n",
      "12710/12710 [==============================] - 0s 10us/step - loss: 0.6126\n",
      "Epoch 147/200\n",
      "12710/12710 [==============================] - 0s 9us/step - loss: 0.6172\n",
      "Epoch 148/200\n",
      "12710/12710 [==============================] - 0s 9us/step - loss: 0.6220\n",
      "Epoch 149/200\n",
      "12710/12710 [==============================] - 0s 9us/step - loss: 0.6238\n",
      "Epoch 150/200\n",
      "12710/12710 [==============================] - 0s 9us/step - loss: 0.6160\n",
      "Epoch 151/200\n",
      "12710/12710 [==============================] - 0s 9us/step - loss: 0.6136\n",
      "Epoch 152/200\n",
      "12710/12710 [==============================] - 0s 9us/step - loss: 0.6052\n",
      "Epoch 153/200\n",
      "12710/12710 [==============================] - 0s 10us/step - loss: 0.6038\n",
      "Epoch 154/200\n",
      "12710/12710 [==============================] - 0s 10us/step - loss: 0.6058\n",
      "Epoch 155/200\n",
      "12710/12710 [==============================] - 0s 9us/step - loss: 0.6137\n",
      "Epoch 156/200\n",
      "12710/12710 [==============================] - 0s 9us/step - loss: 0.6009\n",
      "Epoch 157/200\n",
      "12710/12710 [==============================] - 0s 9us/step - loss: 0.6116\n",
      "Epoch 158/200\n",
      "12710/12710 [==============================] - 0s 10us/step - loss: 0.5952\n",
      "Epoch 159/200\n",
      "12710/12710 [==============================] - 0s 9us/step - loss: 0.5993\n",
      "Epoch 160/200\n",
      "12710/12710 [==============================] - 0s 10us/step - loss: 0.6016\n",
      "Epoch 161/200\n",
      "12710/12710 [==============================] - 0s 9us/step - loss: 0.6152\n",
      "Epoch 162/200\n",
      "12710/12710 [==============================] - 0s 9us/step - loss: 0.5943\n",
      "Epoch 163/200\n",
      "12710/12710 [==============================] - 0s 9us/step - loss: 0.6017\n",
      "Epoch 164/200\n",
      "12710/12710 [==============================] - 0s 9us/step - loss: 0.6038\n",
      "Epoch 165/200\n",
      "12710/12710 [==============================] - 0s 10us/step - loss: 0.6159\n",
      "Epoch 166/200\n",
      "12710/12710 [==============================] - 0s 10us/step - loss: 0.6184\n",
      "Epoch 167/200\n",
      "12710/12710 [==============================] - 0s 13us/step - loss: 0.6224\n",
      "Epoch 168/200\n",
      "12710/12710 [==============================] - 0s 12us/step - loss: 0.6170\n",
      "Epoch 169/200\n",
      "12710/12710 [==============================] - 0s 11us/step - loss: 0.5909\n",
      "Epoch 170/200\n",
      "12710/12710 [==============================] - 0s 9us/step - loss: 0.5894\n",
      "Epoch 171/200\n",
      "12710/12710 [==============================] - 0s 9us/step - loss: 0.5908\n",
      "Epoch 172/200\n",
      "12710/12710 [==============================] - 0s 9us/step - loss: 0.5879\n",
      "Epoch 173/200\n",
      "12710/12710 [==============================] - 0s 11us/step - loss: 0.5962\n",
      "Epoch 174/200\n",
      "12710/12710 [==============================] - 0s 10us/step - loss: 0.5789\n",
      "Epoch 175/200\n",
      "12710/12710 [==============================] - 0s 10us/step - loss: 0.5828\n",
      "Epoch 176/200\n",
      "12710/12710 [==============================] - 0s 10us/step - loss: 0.5875\n",
      "Epoch 177/200\n",
      "12710/12710 [==============================] - 0s 12us/step - loss: 0.5838\n",
      "Epoch 178/200\n",
      "12710/12710 [==============================] - 0s 11us/step - loss: 0.5785\n",
      "Epoch 179/200\n"
     ]
    },
    {
     "name": "stdout",
     "output_type": "stream",
     "text": [
      "12710/12710 [==============================] - 0s 10us/step - loss: 0.5825\n",
      "Epoch 180/200\n",
      "12710/12710 [==============================] - 0s 9us/step - loss: 0.5898\n",
      "Epoch 181/200\n",
      "12710/12710 [==============================] - 0s 9us/step - loss: 0.5915\n",
      "Epoch 182/200\n",
      "12710/12710 [==============================] - 0s 9us/step - loss: 0.6008\n",
      "Epoch 183/200\n",
      "12710/12710 [==============================] - 0s 9us/step - loss: 0.5845\n",
      "Epoch 184/200\n",
      "12710/12710 [==============================] - 0s 10us/step - loss: 0.6130\n",
      "Epoch 185/200\n",
      "12710/12710 [==============================] - 0s 9us/step - loss: 0.5925\n",
      "Epoch 186/200\n",
      "12710/12710 [==============================] - 0s 9us/step - loss: 0.6071\n",
      "Epoch 187/200\n",
      "12710/12710 [==============================] - 0s 9us/step - loss: 0.5883\n",
      "Epoch 188/200\n",
      "12710/12710 [==============================] - 0s 9us/step - loss: 0.5838\n",
      "Epoch 189/200\n",
      "12710/12710 [==============================] - 0s 9us/step - loss: 0.5827\n",
      "Epoch 190/200\n",
      "12710/12710 [==============================] - 0s 9us/step - loss: 0.5809\n",
      "Epoch 191/200\n",
      "12710/12710 [==============================] - 0s 9us/step - loss: 0.5762\n",
      "Epoch 192/200\n",
      "12710/12710 [==============================] - 0s 9us/step - loss: 0.5803\n",
      "Epoch 193/200\n",
      "12710/12710 [==============================] - 0s 9us/step - loss: 0.5782\n",
      "Epoch 194/200\n",
      "12710/12710 [==============================] - 0s 10us/step - loss: 0.5925\n",
      "Epoch 195/200\n",
      "12710/12710 [==============================] - 0s 9us/step - loss: 0.5803\n",
      "Epoch 196/200\n",
      "12710/12710 [==============================] - 0s 10us/step - loss: 0.5807\n",
      "Epoch 197/200\n",
      "12710/12710 [==============================] - 0s 11us/step - loss: 0.5814\n",
      "Epoch 198/200\n",
      "12710/12710 [==============================] - 0s 10us/step - loss: 0.5755\n",
      "Epoch 199/200\n",
      "12710/12710 [==============================] - 0s 10us/step - loss: 0.5889\n",
      "Epoch 200/200\n",
      "12710/12710 [==============================] - 0s 9us/step - loss: 0.5885\n",
      "4237/4237 [==============================] - 0s 7us/step\n"
     ]
    }
   ],
   "source": [
    "import itertools\n",
    "\n",
    "from sklearn.preprocessing import LabelBinarizer,LabelEncoder\n",
    "from sklearn.metrics import confusion_matrix\n",
    "\n",
    "from keras.models import Sequential\n",
    "from keras.layers import Dense,Activation,Dropout\n",
    "from keras import utils\n",
    "\n",
    "from sklearn.preprocessing import add_dummy_feature\n",
    "from keras.losses import mean_squared_error,mean_absolute_error\n",
    "from keras.optimizers import RMSprop\n",
    "from keras.wrappers.scikit_learn import KerasRegressor\n",
    "import tensorflow as tf\n",
    "from sklearn.model_selection import cross_val_score\n",
    "from sklearn.model_selection import KFold\n",
    "from sklearn.preprocessing import StandardScaler\n",
    "from sklearn.pipeline import Pipeline\n",
    "\n",
    "# define base model\n",
    "a,b=X_train.shape\n",
    "def baseline_model():\n",
    "    # create model\n",
    "    model = Sequential()\n",
    "    model.add(Dense(b, input_dim=b, kernel_initializer='normal', activation='relu'))\n",
    "    model.add(Dense(1, kernel_initializer='normal'))\n",
    "    # Compile model\n",
    "    model.compile(loss='mean_squared_error', optimizer='adam')\n",
    "    return model\n",
    "\n",
    "\n",
    "estimator = KerasRegressor(build_fn=baseline_model, epochs=200, batch_size=100, verbose=1)\n",
    "results=estimator.fit(X_train,y_train)\n",
    "\n",
    "y_pred6 = estimator.predict(X_test)"
   ]
  },
  {
   "cell_type": "markdown",
   "metadata": {},
   "source": [
    "Evaluation R2 and Mean Squared Error"
   ]
  },
  {
   "cell_type": "code",
   "execution_count": 18,
   "metadata": {},
   "outputs": [],
   "source": [
    "from sklearn.metrics import r2_score, mean_squared_error\n",
    "def evaluate(model,y_predict):\n",
    "    print(model)\n",
    "    r2=r2_score(y_test,y_predict)\n",
    "    rms= mean_squared_error(y_test,y_predict)\n",
    "    print(\"R2 score:\",r2)\n",
    "    print(\"RMSE score:\",rms)\n",
    "    return r2,rms"
   ]
  },
  {
   "cell_type": "code",
   "execution_count": 19,
   "metadata": {},
   "outputs": [
    {
     "name": "stdout",
     "output_type": "stream",
     "text": [
      "Linear Regression\n",
      "R2 score: 0.9269385318442543\n",
      "RMSE score: 4.86283131723769\n"
     ]
    }
   ],
   "source": [
    "r2_lin,rmse_lin=evaluate(\"Linear Regression\",y_pred)"
   ]
  },
  {
   "cell_type": "code",
   "execution_count": 20,
   "metadata": {},
   "outputs": [
    {
     "name": "stdout",
     "output_type": "stream",
     "text": [
      "ElasticNet\n",
      "R2 score: 0.8256815372036607\n",
      "RMSE score: 11.60230284794939\n"
     ]
    }
   ],
   "source": [
    "r2_lin,rmse_lin=evaluate(\"ElasticNet\",y_pred1)"
   ]
  },
  {
   "cell_type": "code",
   "execution_count": 21,
   "metadata": {},
   "outputs": [
    {
     "name": "stdout",
     "output_type": "stream",
     "text": [
      "Lasso\n",
      "R2 score: 0.8344452346752863\n",
      "RMSE score: 11.01900793757376\n"
     ]
    }
   ],
   "source": [
    "r2_las,rmse_las=evaluate(\"Lasso\",y_pred2)"
   ]
  },
  {
   "cell_type": "code",
   "execution_count": 22,
   "metadata": {},
   "outputs": [
    {
     "name": "stdout",
     "output_type": "stream",
     "text": [
      "Decision Tree Regressor\n",
      "R2 score: 0.9793905533362829\n",
      "RMSE score: 1.3717252773188577\n"
     ]
    }
   ],
   "source": [
    "r2_dtr,rmse_dtr=evaluate(\"Decision Tree Regressor\",y_pred3)"
   ]
  },
  {
   "cell_type": "code",
   "execution_count": 23,
   "metadata": {},
   "outputs": [
    {
     "name": "stdout",
     "output_type": "stream",
     "text": [
      "K Neighbors Regressor\n",
      "R2 score: 0.9424570916127778\n",
      "RMSE score: 3.8299457163087087\n"
     ]
    }
   ],
   "source": [
    "r2_knr,rmse_knr=evaluate(\"K Neighbors Regressor\",y_pred4)"
   ]
  },
  {
   "cell_type": "code",
   "execution_count": 24,
   "metadata": {},
   "outputs": [
    {
     "name": "stdout",
     "output_type": "stream",
     "text": [
      "Gradient Boosting Regressor\n",
      "R2 score: 0.9697140218714146\n",
      "RMSE score: 2.015776669076951\n"
     ]
    }
   ],
   "source": [
    "r2_gbr,rmse_gbr=evaluate(\"Gradient Boosting Regressor\",y_pred5)"
   ]
  },
  {
   "cell_type": "code",
   "execution_count": 25,
   "metadata": {},
   "outputs": [
    {
     "name": "stdout",
     "output_type": "stream",
     "text": [
      "Neural Network\n",
      "R2 score: 0.990821181129784\n",
      "RMSE score: 0.6109245951941381\n"
     ]
    }
   ],
   "source": [
    "r2_neu,rmse_neu=evaluate(\"Neural Network\",y_pred6)"
   ]
  },
  {
   "cell_type": "markdown",
   "metadata": {},
   "source": [
    "Plotting Prediction vs Test Values"
   ]
  },
  {
   "cell_type": "code",
   "execution_count": 27,
   "metadata": {
    "scrolled": true
   },
   "outputs": [
    {
     "data": {
      "image/png": "[encoded data removed]",
      "text/plain": [
       "<Figure size 720x576 with 1 Axes>"
      ]
     },
     "metadata": {},
     "output_type": "display_data"
    }
   ],
   "source": [
    "import matplotlib.pyplot as plt\n",
    "import seaborn as sns\n",
    "plt.figure(figsize=(10,8))\n",
    "sns.regplot(y_pred6,y_test,scatter_kws={'alpha':0.3, 'color':'blue'},line_kws={'color':'red','alpha':0.5})\n",
    "plt.title(\"Neural Network\")\n",
    "plt.show()"
   ]
  },
  {
   "cell_type": "code",
   "execution_count": null,
   "metadata": {},
   "outputs": [],
   "source": []
  }
 ],
 "metadata": {
  "kernelspec": {
   "display_name": "Python 3",
   "language": "python",
   "name": "python3"
  },
  "language_info": {
   "codemirror_mode": {
    "name": "ipython",
    "version": 3
   },
   "file_extension": ".py",
   "mimetype": "text/x-python",
   "name": "python",
   "nbconvert_exporter": "python",
   "pygments_lexer": "ipython3",
   "version": "3.6.7"
  }
 },
 "nbformat": 4,
 "nbformat_minor": 2
}
