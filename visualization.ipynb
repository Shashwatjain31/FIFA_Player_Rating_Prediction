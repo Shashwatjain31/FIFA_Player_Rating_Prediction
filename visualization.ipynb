{
 "cells": [
  {
   "cell_type": "code",
   "execution_count": 2,
   "metadata": {},
   "outputs": [],
   "source": [
    "import pandas as pd\n",
    "df = pd.read_csv(\"FIFA19 - Ultimate Team players.csv\")"
   ]
  },
  {
   "cell_type": "code",
   "execution_count": 3,
   "metadata": {},
   "outputs": [
    {
     "data": {
      "text/html": [
       "<div>\n",
       "<style scoped>\n",
       "    .dataframe tbody tr th:only-of-type {\n",
       "        vertical-align: middle;\n",
       "    }\n",
       "\n",
       "    .dataframe tbody tr th {\n",
       "        vertical-align: top;\n",
       "    }\n",
       "\n",
       "    .dataframe thead th {\n",
       "        text-align: right;\n",
       "    }\n",
       "</style>\n",
       "<table border=\"1\" class=\"dataframe\">\n",
       "  <thead>\n",
       "    <tr style=\"text-align: right;\">\n",
       "      <th></th>\n",
       "      <th>player_id</th>\n",
       "      <th>player_name</th>\n",
       "      <th>player_extended_name</th>\n",
       "      <th>quality</th>\n",
       "      <th>revision</th>\n",
       "      <th>origin</th>\n",
       "      <th>overall</th>\n",
       "      <th>club</th>\n",
       "      <th>league</th>\n",
       "      <th>nationality</th>\n",
       "      <th>...</th>\n",
       "      <th>ps4_max</th>\n",
       "      <th>ps4_prp</th>\n",
       "      <th>xbox_last</th>\n",
       "      <th>xbox_min</th>\n",
       "      <th>xbox_max</th>\n",
       "      <th>xbox_prp</th>\n",
       "      <th>pc_last</th>\n",
       "      <th>pc_min</th>\n",
       "      <th>pc_max</th>\n",
       "      <th>pc_prp</th>\n",
       "    </tr>\n",
       "  </thead>\n",
       "  <tbody>\n",
       "    <tr>\n",
       "      <th>0</th>\n",
       "      <td>1</td>\n",
       "      <td>Pelé</td>\n",
       "      <td>Arantes Nascimento Edson</td>\n",
       "      <td>Gold - Rare</td>\n",
       "      <td>Icon</td>\n",
       "      <td>Prime</td>\n",
       "      <td>98</td>\n",
       "      <td>Icons</td>\n",
       "      <td>Icons</td>\n",
       "      <td>Brazil</td>\n",
       "      <td>...</td>\n",
       "      <td>10300000</td>\n",
       "      <td>45</td>\n",
       "      <td>0</td>\n",
       "      <td>472000</td>\n",
       "      <td>9000000</td>\n",
       "      <td>58</td>\n",
       "      <td>6400000</td>\n",
       "      <td>535000</td>\n",
       "      <td>10100000</td>\n",
       "      <td>61</td>\n",
       "    </tr>\n",
       "    <tr>\n",
       "      <th>1</th>\n",
       "      <td>2</td>\n",
       "      <td>Maradona</td>\n",
       "      <td>Diego Maradona</td>\n",
       "      <td>Gold - Rare</td>\n",
       "      <td>Icon</td>\n",
       "      <td>Prime</td>\n",
       "      <td>97</td>\n",
       "      <td>Icons</td>\n",
       "      <td>Icons</td>\n",
       "      <td>Argentina</td>\n",
       "      <td>...</td>\n",
       "      <td>5400000</td>\n",
       "      <td>52</td>\n",
       "      <td>2689000</td>\n",
       "      <td>259000</td>\n",
       "      <td>4900000</td>\n",
       "      <td>52</td>\n",
       "      <td>3500000</td>\n",
       "      <td>376000</td>\n",
       "      <td>7100000</td>\n",
       "      <td>46</td>\n",
       "    </tr>\n",
       "    <tr>\n",
       "      <th>2</th>\n",
       "      <td>3</td>\n",
       "      <td>Ronaldo</td>\n",
       "      <td>Nazário de Lima Ronaldo Luís</td>\n",
       "      <td>Gold - Rare</td>\n",
       "      <td>Icon</td>\n",
       "      <td>Prime</td>\n",
       "      <td>96</td>\n",
       "      <td>Icons</td>\n",
       "      <td>Icons</td>\n",
       "      <td>Brazil</td>\n",
       "      <td>...</td>\n",
       "      <td>13000000</td>\n",
       "      <td>47</td>\n",
       "      <td>6455000</td>\n",
       "      <td>665000</td>\n",
       "      <td>12600000</td>\n",
       "      <td>48</td>\n",
       "      <td>0</td>\n",
       "      <td>790000</td>\n",
       "      <td>15000000</td>\n",
       "      <td>100</td>\n",
       "    </tr>\n",
       "    <tr>\n",
       "      <th>3</th>\n",
       "      <td>4</td>\n",
       "      <td>Pelé</td>\n",
       "      <td>Arantes Nascimento Edson</td>\n",
       "      <td>Gold - Rare</td>\n",
       "      <td>Icon</td>\n",
       "      <td>Medium</td>\n",
       "      <td>95</td>\n",
       "      <td>Icons</td>\n",
       "      <td>Icons</td>\n",
       "      <td>Brazil</td>\n",
       "      <td>...</td>\n",
       "      <td>6300000</td>\n",
       "      <td>50</td>\n",
       "      <td>3399000</td>\n",
       "      <td>307000</td>\n",
       "      <td>5800000</td>\n",
       "      <td>56</td>\n",
       "      <td>4400000</td>\n",
       "      <td>364000</td>\n",
       "      <td>6900000</td>\n",
       "      <td>61</td>\n",
       "    </tr>\n",
       "    <tr>\n",
       "      <th>4</th>\n",
       "      <td>5</td>\n",
       "      <td>Maradona</td>\n",
       "      <td>Diego Maradona</td>\n",
       "      <td>Gold - Rare</td>\n",
       "      <td>Icon</td>\n",
       "      <td>Medium</td>\n",
       "      <td>95</td>\n",
       "      <td>Icons</td>\n",
       "      <td>Icons</td>\n",
       "      <td>Argentina</td>\n",
       "      <td>...</td>\n",
       "      <td>3700000</td>\n",
       "      <td>48</td>\n",
       "      <td>1849000</td>\n",
       "      <td>170000</td>\n",
       "      <td>3200000</td>\n",
       "      <td>55</td>\n",
       "      <td>2550000</td>\n",
       "      <td>258000</td>\n",
       "      <td>4900000</td>\n",
       "      <td>49</td>\n",
       "    </tr>\n",
       "  </tbody>\n",
       "</table>\n",
       "<p>5 rows × 95 columns</p>\n",
       "</div>"
      ],
      "text/plain": [
       "   player_id player_name          player_extended_name      quality revision  \\\n",
       "0          1        Pelé      Arantes Nascimento Edson  Gold - Rare     Icon   \n",
       "1          2    Maradona                Diego Maradona  Gold - Rare     Icon   \n",
       "2          3     Ronaldo  Nazário de Lima Ronaldo Luís  Gold - Rare     Icon   \n",
       "3          4        Pelé      Arantes Nascimento Edson  Gold - Rare     Icon   \n",
       "4          5    Maradona                Diego Maradona  Gold - Rare     Icon   \n",
       "\n",
       "   origin  overall   club league nationality   ...     ps4_max  ps4_prp  \\\n",
       "0   Prime       98  Icons  Icons      Brazil   ...    10300000       45   \n",
       "1   Prime       97  Icons  Icons   Argentina   ...     5400000       52   \n",
       "2   Prime       96  Icons  Icons      Brazil   ...    13000000       47   \n",
       "3  Medium       95  Icons  Icons      Brazil   ...     6300000       50   \n",
       "4  Medium       95  Icons  Icons   Argentina   ...     3700000       48   \n",
       "\n",
       "  xbox_last  xbox_min  xbox_max  xbox_prp  pc_last  pc_min    pc_max  pc_prp  \n",
       "0         0    472000   9000000        58  6400000  535000  10100000      61  \n",
       "1   2689000    259000   4900000        52  3500000  376000   7100000      46  \n",
       "2   6455000    665000  12600000        48        0  790000  15000000     100  \n",
       "3   3399000    307000   5800000        56  4400000  364000   6900000      61  \n",
       "4   1849000    170000   3200000        55  2550000  258000   4900000      49  \n",
       "\n",
       "[5 rows x 95 columns]"
      ]
     },
     "execution_count": 3,
     "metadata": {},
     "output_type": "execute_result"
    }
   ],
   "source": [
    "df.head()"
   ]
  },
  {
   "cell_type": "code",
   "execution_count": 4,
   "metadata": {},
   "outputs": [
    {
     "data": {
      "text/plain": [
       "gk_positoning           16882\n",
       "gk_diving               16882\n",
       "gk_reflexes             16882\n",
       "gk_handling             16882\n",
       "gk_speed                16882\n",
       "gk_kicking              16882\n",
       "specialities            16451\n",
       "origin                  16353\n",
       "traits                  11680\n",
       "cm                       1949\n",
       "cdm                      1949\n",
       "lwb                      1949\n",
       "rwb                      1949\n",
       "lb                       1949\n",
       "passing                  1949\n",
       "physicality              1949\n",
       "cb                       1949\n",
       "pace                     1949\n",
       "lm                       1949\n",
       "dribbling                1949\n",
       "shooting                 1949\n",
       "defending                1949\n",
       "rm                       1949\n",
       "rb                       1949\n",
       "cam                      1949\n",
       "cf                       1949\n",
       "rf                       1949\n",
       "lf                       1949\n",
       "rw                       1949\n",
       "lw                       1949\n",
       "st                       1949\n",
       "revision                    5\n",
       "height                      0\n",
       "weight                      0\n",
       "shoot_volleys               0\n",
       "shoot_long_shots            0\n",
       "shoot_shot_power            0\n",
       "shoot_finishing             0\n",
       "shoot_positioning           0\n",
       "player_name                 0\n",
       "player_extended_name        0\n",
       "drib_composure              0\n",
       "drib_dribbling              0\n",
       "drib_ball_control           0\n",
       "drib_reactions              0\n",
       "drib_balance                0\n",
       "drib_agility                0\n",
       "quality                     0\n",
       "pace_sprint_speed           0\n",
       "pace_acceleration           0\n",
       "dtype: int64"
      ]
     },
     "execution_count": 4,
     "metadata": {},
     "output_type": "execute_result"
    }
   ],
   "source": [
    "df.isnull().sum().sort_values(ascending=False)[:50]"
   ]
  },
  {
   "cell_type": "code",
   "execution_count": 5,
   "metadata": {},
   "outputs": [
    {
     "data": {
      "text/plain": [
       "Index(['player_id', 'player_name', 'player_extended_name', 'quality',\n",
       "       'revision', 'origin', 'overall', 'club', 'league', 'nationality',\n",
       "       'position', 'age', 'date_of_birth', 'height', 'weight', 'intl_rep',\n",
       "       'added_date', 'pace', 'pace_acceleration', 'pace_sprint_speed',\n",
       "       'dribbling', 'drib_agility', 'drib_balance', 'drib_reactions',\n",
       "       'drib_ball_control', 'drib_dribbling', 'drib_composure', 'shooting',\n",
       "       'shoot_positioning', 'shoot_finishing', 'shoot_shot_power',\n",
       "       'shoot_long_shots', 'shoot_volleys', 'shoot_penalties', 'passing',\n",
       "       'pass_vision', 'pass_crossing', 'pass_free_kick', 'pass_short',\n",
       "       'pass_long', 'pass_curve', 'defending', 'def_interceptions',\n",
       "       'def_heading', 'def_marking', 'def_stand_tackle', 'def_slid_tackle',\n",
       "       'physicality', 'phys_jumping', 'phys_stamina', 'phys_strength',\n",
       "       'phys_aggression', 'gk_diving', 'gk_reflexes', 'gk_handling',\n",
       "       'gk_speed', 'gk_kicking', 'gk_positoning', 'pref_foot', 'att_workrate',\n",
       "       'def_workrate', 'weak_foot', 'skill_moves', 'cb', 'rb', 'lb', 'rwb',\n",
       "       'lwb', 'cdm', 'cm', 'rm', 'lm', 'cam', 'cf', 'rf', 'lf', 'rw', 'lw',\n",
       "       'st', 'traits', 'specialities', 'base_id', 'resource_id', 'ps4_last',\n",
       "       'ps4_min', 'ps4_max', 'ps4_prp', 'xbox_last', 'xbox_min', 'xbox_max',\n",
       "       'xbox_prp', 'pc_last', 'pc_min', 'pc_max', 'pc_prp'],\n",
       "      dtype='object')"
      ]
     },
     "execution_count": 5,
     "metadata": {},
     "output_type": "execute_result"
    }
   ],
   "source": [
    "df.columns[:]"
   ]
  },
  {
   "cell_type": "code",
   "execution_count": 6,
   "metadata": {},
   "outputs": [],
   "source": [
    "df2=df[['quality','age','overall','intl_rep','position','pace', 'pace_acceleration', 'pace_sprint_speed',\n",
    "       'dribbling', 'drib_agility', 'drib_balance', 'drib_reactions',\n",
    "       'drib_ball_control', 'drib_dribbling', 'drib_composure', 'shooting',\n",
    "       'shoot_positioning', 'shoot_finishing', 'shoot_shot_power',\n",
    "       'shoot_long_shots', 'shoot_volleys', 'shoot_penalties', 'passing',\n",
    "       'pass_vision', 'pass_crossing', 'pass_free_kick', 'pass_short',\n",
    "       'pass_long', 'pass_curve', 'defending', 'def_interceptions',\n",
    "       'def_heading', 'def_marking', 'def_stand_tackle', 'def_slid_tackle',\n",
    "       'physicality', 'phys_jumping', 'phys_stamina', 'phys_strength',\n",
    "       'phys_aggression', 'gk_diving', 'gk_reflexes', 'gk_handling',\n",
    "       'gk_speed', 'gk_kicking', 'gk_positoning', 'weak_foot', 'skill_moves', 'cb', 'rb', 'lb', 'rwb',\n",
    "       'lwb', 'cdm', 'cm', 'rm', 'lm', 'cam', 'cf', 'rf', 'lf', 'rw', 'lw',\n",
    "       'st']]"
   ]
  },
  {
   "cell_type": "code",
   "execution_count": 7,
   "metadata": {},
   "outputs": [],
   "source": [
    "df2=df2.fillna(0)"
   ]
  },
  {
   "cell_type": "code",
   "execution_count": 8,
   "metadata": {},
   "outputs": [
    {
     "data": {
      "text/plain": [
       "st                   0\n",
       "lw                   0\n",
       "defending            0\n",
       "pass_curve           0\n",
       "pass_long            0\n",
       "pass_short           0\n",
       "pass_free_kick       0\n",
       "pass_crossing        0\n",
       "pass_vision          0\n",
       "passing              0\n",
       "shoot_penalties      0\n",
       "shoot_volleys        0\n",
       "shoot_long_shots     0\n",
       "shoot_shot_power     0\n",
       "shoot_finishing      0\n",
       "shoot_positioning    0\n",
       "shooting             0\n",
       "drib_composure       0\n",
       "drib_dribbling       0\n",
       "drib_ball_control    0\n",
       "drib_reactions       0\n",
       "drib_balance         0\n",
       "drib_agility         0\n",
       "dribbling            0\n",
       "pace_sprint_speed    0\n",
       "pace_acceleration    0\n",
       "pace                 0\n",
       "position             0\n",
       "intl_rep             0\n",
       "overall              0\n",
       "                    ..\n",
       "cb                   0\n",
       "rw                   0\n",
       "lf                   0\n",
       "rf                   0\n",
       "cf                   0\n",
       "cam                  0\n",
       "lm                   0\n",
       "rm                   0\n",
       "cm                   0\n",
       "cdm                  0\n",
       "lwb                  0\n",
       "rwb                  0\n",
       "lb                   0\n",
       "rb                   0\n",
       "skill_moves          0\n",
       "def_stand_tackle     0\n",
       "weak_foot            0\n",
       "gk_positoning        0\n",
       "gk_kicking           0\n",
       "gk_speed             0\n",
       "gk_handling          0\n",
       "gk_reflexes          0\n",
       "gk_diving            0\n",
       "phys_aggression      0\n",
       "phys_strength        0\n",
       "phys_stamina         0\n",
       "phys_jumping         0\n",
       "physicality          0\n",
       "def_slid_tackle      0\n",
       "quality              0\n",
       "Length: 64, dtype: int64"
      ]
     },
     "execution_count": 8,
     "metadata": {},
     "output_type": "execute_result"
    }
   ],
   "source": [
    "df2.isna().sum().sort_values(ascending=False)"
   ]
  },
  {
   "cell_type": "code",
   "execution_count": 9,
   "metadata": {},
   "outputs": [],
   "source": [
    "df2['position']=pd.factorize(df2['position'])[0]"
   ]
  },
  {
   "cell_type": "code",
   "execution_count": 10,
   "metadata": {},
   "outputs": [],
   "source": [
    "df2['quality']=pd.factorize(df2['quality'])[0]"
   ]
  },
  {
   "cell_type": "code",
   "execution_count": 11,
   "metadata": {},
   "outputs": [],
   "source": [
    "df2=df2.astype(int)"
   ]
  },
  {
   "cell_type": "code",
   "execution_count": 12,
   "metadata": {},
   "outputs": [
    {
     "data": {
      "text/plain": [
       "<Figure size 3000x3000 with 2 Axes>"
      ]
     },
     "metadata": {},
     "output_type": "display_data"
    }
   ],
   "source": [
    "import seaborn as sns\n",
    "import matplotlib.pyplot as plt\n",
    "import numpy as np\n",
    "corr = df.corr()\n",
    "f, ax = plt.subplots(figsize=(30, 30))\n",
    "mask = np.zeros_like(corr, dtype=np.bool)\n",
    "mask[np.triu_indices_from(mask)] = True\n",
    "cmap = sns.diverging_palette(220, 10, as_cmap=True)\n",
    "sns.heatmap(corr, mask=mask, cmap=cmap, center=0,\n",
    "            square=True,linewidths=.5, cbar_kws={\"shrink\": .5})\n",
    "plt.show()"
   ]
  },
  {
   "cell_type": "code",
   "execution_count": 13,
   "metadata": {},
   "outputs": [
    {
     "name": "stderr",
     "output_type": "stream",
     "text": [
      "/anaconda3/lib/python3.6/site-packages/seaborn/categorical.py:1428: FutureWarning: remove_na is deprecated and is a private function. Do not use.\n",
      "  stat_data = remove_na(group_data)\n"
     ]
    },
    {
     "data": {
      "image/png": "[encoded data removed]",
      "text/plain": [
       "<Figure size 1152x576 with 1 Axes>"
      ]
     },
     "metadata": {},
     "output_type": "display_data"
    }
   ],
   "source": [
    "plt.figure(figsize=(16,8))\n",
    "sns.set_style(\"whitegrid\")\n",
    "plt.title('Grouping players by')\n",
    "plt.ylabel('Players Age')\n",
    "sns.countplot(x=\"overall\", data=df2, palette=\"Spectral\")\n",
    "plt.show()"
   ]
  },
  {
   "cell_type": "code",
   "execution_count": 14,
   "metadata": {},
   "outputs": [
    {
     "name": "stderr",
     "output_type": "stream",
     "text": [
      "/anaconda3/lib/python3.6/site-packages/seaborn/categorical.py:1428: FutureWarning: remove_na is deprecated and is a private function. Do not use.\n",
      "  stat_data = remove_na(group_data)\n"
     ]
    },
    {
     "data": {
      "image/png": "[encoded data removed]",
      "text/plain": [
       "<Figure size 1152x576 with 1 Axes>"
      ]
     },
     "metadata": {},
     "output_type": "display_data"
    }
   ],
   "source": [
    "plt.figure(figsize=(16,8))\n",
    "sns.set_style(\"whitegrid\")\n",
    "plt.title('Grouping players by')\n",
    "plt.ylabel('Position')\n",
    "sns.countplot(x=\"position\", data=df, palette=\"Spectral\")\n",
    "plt.show()"
   ]
  },
  {
   "cell_type": "code",
   "execution_count": 15,
   "metadata": {},
   "outputs": [
    {
     "name": "stderr",
     "output_type": "stream",
     "text": [
      "/anaconda3/lib/python3.6/site-packages/seaborn/categorical.py:1428: FutureWarning: remove_na is deprecated and is a private function. Do not use.\n",
      "  stat_data = remove_na(group_data)\n"
     ]
    },
    {
     "data": {
      "image/png": "[encoded data removed]",
      "text/plain": [
       "<Figure size 1152x576 with 1 Axes>"
      ]
     },
     "metadata": {},
     "output_type": "display_data"
    }
   ],
   "source": [
    "plt.figure(figsize=(16,8))\n",
    "sns.set_style(\"whitegrid\")\n",
    "plt.title('Player Position vs Overall')\n",
    "b = sns.barplot(x=\"position\", y=\"overall\", data=df, palette=\"Spectral\")\n",
    "plt.xticks(rotation=90)\n",
    "plt.xlabel(\"Position\")\n",
    "plt.ylabel('Overall')\n",
    "plt.show()"
   ]
  },
  {
   "cell_type": "code",
   "execution_count": 16,
   "metadata": {},
   "outputs": [
    {
     "name": "stderr",
     "output_type": "stream",
     "text": [
      "/anaconda3/lib/python3.6/site-packages/seaborn/categorical.py:1428: FutureWarning: remove_na is deprecated and is a private function. Do not use.\n",
      "  stat_data = remove_na(group_data)\n"
     ]
    },
    {
     "data": {
      "text/plain": [
       "Text(0.5, 1.0, 'Player preferred Foot')"
      ]
     },
     "execution_count": 16,
     "metadata": {},
     "output_type": "execute_result"
    },
    {
     "data": {
      "image/png": "[encoded data removed]",
      "text/plain": [
       "<Figure size 432x288 with 1 Axes>"
      ]
     },
     "metadata": {},
     "output_type": "display_data"
    }
   ],
   "source": [
    "sns.countplot(df['pref_foot'],palette=\"Spectral\")\n",
    "plt.title('Player preferred Foot')"
   ]
  },
  {
   "cell_type": "code",
   "execution_count": 17,
   "metadata": {
    "scrolled": false
   },
   "outputs": [
    {
     "name": "stderr",
     "output_type": "stream",
     "text": [
      "/anaconda3/lib/python3.6/site-packages/seaborn/categorical.py:1428: FutureWarning: remove_na is deprecated and is a private function. Do not use.\n",
      "  stat_data = remove_na(group_data)\n"
     ]
    },
    {
     "data": {
      "text/plain": [
       "Text(0.5, 1.0, 'Player quality')"
      ]
     },
     "execution_count": 17,
     "metadata": {},
     "output_type": "execute_result"
    },
    {
     "data": {
      "image/png": "[encoded data removed]",
      "text/plain": [
       "<Figure size 432x288 with 1 Axes>"
      ]
     },
     "metadata": {},
     "output_type": "display_data"
    }
   ],
   "source": [
    "sns.countplot(df['quality'],palette=\"Spectral\")\n",
    "plt.title('Player quality')"
   ]
  },
  {
   "cell_type": "code",
   "execution_count": 18,
   "metadata": {
    "scrolled": true
   },
   "outputs": [
    {
     "name": "stderr",
     "output_type": "stream",
     "text": [
      "/anaconda3/lib/python3.6/site-packages/seaborn/categorical.py:1428: FutureWarning: remove_na is deprecated and is a private function. Do not use.\n",
      "  stat_data = remove_na(group_data)\n"
     ]
    },
    {
     "data": {
      "text/plain": [
       "Text(0.5, 1.0, 'International Reputation')"
      ]
     },
     "execution_count": 18,
     "metadata": {},
     "output_type": "execute_result"
    },
    {
     "data": {
      "image/png": "[encoded data removed]",
      "text/plain": [
       "<Figure size 432x288 with 1 Axes>"
      ]
     },
     "metadata": {},
     "output_type": "display_data"
    }
   ],
   "source": [
    "sns.countplot(df['intl_rep'],palette=\"Spectral\")\n",
    "plt.title('International Reputation')"
   ]
  }
 ],
 "metadata": {
  "kernelspec": {
   "display_name": "Python 3",
   "language": "python",
   "name": "python3"
  },
  "language_info": {
   "codemirror_mode": {
    "name": "ipython",
    "version": 3
   },
   "file_extension": ".py",
   "mimetype": "text/x-python",
   "name": "python",
   "nbconvert_exporter": "python",
   "pygments_lexer": "ipython3",
   "version": "3.6.7"
  }
 },
 "nbformat": 4,
 "nbformat_minor": 2
}
