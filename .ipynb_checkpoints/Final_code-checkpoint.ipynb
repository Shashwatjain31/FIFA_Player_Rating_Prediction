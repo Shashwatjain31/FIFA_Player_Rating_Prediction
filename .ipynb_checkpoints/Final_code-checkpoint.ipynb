{
 "cells": [
  {
   "cell_type": "code",
   "execution_count": null,
   "metadata": {},
   "outputs": [],
   "source": [
    "import warnings\n",
    "warnings.filterwarnings('ignore')\n",
    "from IPython.core.interactiveshell import InteractiveShell\n",
    "InteractiveShell.ast_node_interactivity = \"all\""
   ]
  },
  {
   "cell_type": "markdown",
   "metadata": {},
   "source": [
    "###### 1) Find Similar Players for replacement using KNN"
   ]
  },
  {
   "cell_type": "code",
   "execution_count": null,
   "metadata": {
    "scrolled": true
   },
   "outputs": [],
   "source": [
    "from collections import defaultdict\n",
    "import pandas as pd\n",
    "from flask import Flask\n",
    "from flask import request\n",
    "from flask import render_template\n",
    "app = Flask(__name__, template_folder = 'templates')\n",
    "\n",
    "data = pd.read_csv('fifa19_train.csv')\n",
    "df2=data.groupby('player_name', group_keys=False, as_index=False).apply(lambda x: x.loc[x.overall.idxmax()])\n",
    "my_df=df2[['quality','position','intl_rep','pace', 'pace_acceleration', 'pace_sprint_speed',\n",
    "       'dribbling', 'drib_agility', 'drib_balance', 'drib_reactions',\n",
    "       'drib_ball_control', 'drib_dribbling', 'drib_composure', 'shooting',\n",
    "       'shoot_positioning', 'shoot_finishing', 'shoot_shot_power',\n",
    "       'shoot_long_shots', 'shoot_volleys', 'shoot_penalties', 'passing',\n",
    "       'pass_vision', 'pass_crossing', 'pass_free_kick', 'pass_short',\n",
    "       'pass_long', 'pass_curve', 'defending', 'def_interceptions',\n",
    "       'def_heading', 'def_marking', 'def_stand_tackle', 'def_slid_tackle',\n",
    "       'physicality', 'phys_jumping', 'phys_stamina', 'phys_strength',\n",
    "       'phys_aggression', 'gk_diving', 'gk_reflexes', 'gk_handling',\n",
    "       'gk_speed', 'gk_kicking', 'gk_positoning', 'cb', 'rb', 'lb', 'rwb',\n",
    "       'lwb', 'cdm', 'cm', 'rm', 'lm', 'cam', 'cf', 'rf', 'lf', 'rw', 'lw',\n",
    "       'st','pref_foot', 'att_workrate',\n",
    "       'def_workrate', 'weak_foot', 'skill_moves']]\n",
    "    \n",
    "\n",
    "my_df = my_df.fillna(0)\n",
    "my_df['quality']=pd.factorize(my_df['quality'])[0]\n",
    "my_df['position']=pd.factorize(my_df['position'])[0]\n",
    "my_df['pref_foot']=pd.factorize(my_df['pref_foot'])[0]\n",
    "my_df['def_workrate']=pd.factorize(my_df['def_workrate'])[0]\n",
    "my_df['att_workrate']=pd.factorize(my_df['att_workrate'])[0]\n",
    "my_df = my_df.astype(int)\n",
    "\n",
    "from sklearn.preprocessing import StandardScaler\n",
    "scaled = StandardScaler()\n",
    "X = scaled.fit_transform(my_df)\n",
    "\n",
    "from sklearn.neighbors import NearestNeighbors\n",
    "recommendations = NearestNeighbors(n_neighbors=6,algorithm='ball_tree')\n",
    "recommendations.fit(X)\n",
    "\n",
    "player_index = recommendations.kneighbors(X)[1]"
   ]
  },
  {
   "cell_type": "markdown",
   "metadata": {},
   "source": [
    "###### 1.1) Save the similar players model to a pickle file player_index, to use "
   ]
  },
  {
   "cell_type": "code",
   "execution_count": null,
   "metadata": {},
   "outputs": [],
   "source": [
    "import pickle\n",
    "filename = 'player_index'\n",
    "outfile = open(filename,'wb')\n",
    "pickle.dump( player_index,outfile)\n",
    "outfile.close()"
   ]
  },
  {
   "cell_type": "markdown",
   "metadata": {},
   "source": [
    "###### 2) Code for creating a model to calculate overall score of a player based on his characteristics##"
   ]
  },
  {
   "cell_type": "code",
   "execution_count": null,
   "metadata": {},
   "outputs": [],
   "source": [
    "import numpy as np\n",
    "import itertools\n",
    "\n",
    "from sklearn.preprocessing import LabelBinarizer,LabelEncoder\n",
    "from sklearn.metrics import confusion_matrix\n",
    "\n",
    "from keras.models import Sequential\n",
    "from keras.layers import Dense,Activation,Dropout\n",
    "from keras import utils\n",
    "\n",
    "from sklearn.preprocessing import add_dummy_feature\n",
    "from keras.losses import mean_squared_error,mean_absolute_error\n",
    "from keras.optimizers import RMSprop\n",
    "from keras.wrappers.scikit_learn import KerasRegressor\n",
    "import tensorflow as tf\n",
    "from sklearn.model_selection import cross_val_score\n",
    "from sklearn.model_selection import KFold\n",
    "from sklearn.preprocessing import StandardScaler\n",
    "from sklearn.pipeline import Pipeline\n",
    "from sklearn.model_selection import train_test_split\n",
    "import pandas as pd\n",
    "from sklearn.preprocessing import MinMaxScaler\n",
    "import matplotlib.pyplot as plt\n",
    "\n",
    "df=pd.read_csv(\"fifa19_train.csv\")\n",
    "my_df=df[['quality','age','height', 'weight','position','intl_rep','pace', 'pace_acceleration', 'pace_sprint_speed',\n",
    "       'dribbling', 'drib_agility', 'drib_balance', 'drib_reactions',\n",
    "       'drib_ball_control', 'drib_dribbling', 'drib_composure', 'shooting',\n",
    "       'shoot_positioning', 'shoot_finishing', 'shoot_shot_power',\n",
    "       'shoot_long_shots', 'shoot_volleys', 'shoot_penalties', 'passing',\n",
    "       'pass_vision', 'pass_crossing', 'pass_free_kick', 'pass_short',\n",
    "       'pass_long', 'pass_curve', 'defending', 'def_interceptions',\n",
    "       'def_heading', 'def_marking', 'def_stand_tackle', 'def_slid_tackle',\n",
    "       'physicality', 'phys_jumping', 'phys_stamina', 'phys_strength',\n",
    "       'phys_aggression', 'gk_diving', 'gk_reflexes', 'gk_handling',\n",
    "       'gk_speed', 'gk_kicking', 'gk_positoning','pref_foot', 'att_workrate',\n",
    "       'def_workrate', 'weak_foot', 'skill_moves','cb', 'rb', 'lb', 'rwb',\n",
    "       'lwb', 'cdm', 'cm', 'rm', 'lm', 'cam', 'cf', 'rf', 'lf', 'rw', 'lw',\n",
    "       'st']]\n",
    "my_df=my_df.fillna(0)\n",
    "my_df['quality'],uni_qual=pd.factorize(my_df['quality'])\n",
    "my_df['position'],uni_pos=pd.factorize(my_df['position'])\n",
    "my_df['pref_foot'],uni_foot=pd.factorize(my_df['pref_foot'])\n",
    "my_df['def_workrate'],uni_def=pd.factorize(my_df['def_workrate'])\n",
    "my_df['att_workrate'],uni_att=pd.factorize(my_df['att_workrate'])\n",
    "my_df=my_df.astype(int)\n",
    "y=df['overall']\n",
    "X_train, X_test, y_train, y_test = train_test_split(my_df, y)\n",
    "a,b = X_train.shape\n",
    "def baseline_model():\n",
    "    model = Sequential()\n",
    "    model.add(Dense(b, input_dim=b, kernel_initializer='normal', activation='relu'))\n",
    "    model.add(Dense(1, kernel_initializer='normal'))\n",
    "    model.compile(loss='mean_squared_error', optimizer='adam')\n",
    "    return model\n",
    "\n",
    "\n",
    "estimator = KerasRegressor(build_fn=baseline_model, epochs=200, batch_size=100, verbose=0)\n",
    "results=estimator.fit(X_train,y_train)\n",
    "y_pred = estimator.predict(X_test)"
   ]
  },
  {
   "cell_type": "markdown",
   "metadata": {},
   "source": [
    "###### 2.2) Save the calculate overall score of a player model to a pickle file overall_model"
   ]
  },
  {
   "cell_type": "code",
   "execution_count": null,
   "metadata": {},
   "outputs": [],
   "source": [
    "import pickle\n",
    "filename = 'overall_model'\n",
    "outfile = open(filename,'wb')\n",
    "pickle.dump(estimator,outfile)\n",
    "outfile.close()"
   ]
  },
  {
   "cell_type": "markdown",
   "metadata": {},
   "source": [
    "###### 3) Demo for evaluating our models of overall score and similar players prediction. ##"
   ]
  },
  {
   "cell_type": "code",
   "execution_count": null,
   "metadata": {
    "scrolled": true
   },
   "outputs": [],
   "source": [
    "@app.route('/', methods=['GET', 'POST'])\n",
    "# @app.route('/index', methods=['GET', 'POST'])\n",
    "def index():\n",
    "    if request.method == 'GET':\n",
    "        return render_template('index.html')\n",
    "    else:\n",
    "        if request.form.get('Player Name')==None:\n",
    "            if request.form.get('player2')!=None:\n",
    "                text1 = request.form['player2']\n",
    "                def get_index(x):\n",
    "                    return df2[df2['player_name']==x].index.tolist()[0]\n",
    "                index=get_index(text1)\n",
    "                my_dict=df2.iloc[index,:].to_dict()\n",
    "                return render_template('index.html',posts6=my_dict[\"position\"],posts7=my_dict[\"intl_rep\"],posts8=my_dict[\"quality\"],posts9=my_dict[\"pace\"],posts10=my_dict[\"pace_acceleration\"],posts11=my_dict[\"pace_sprint_speed\"],posts12=my_dict[\"dribbling\"],posts13=my_dict[\"drib_agility\"],posts14=my_dict[\"drib_balance\"],posts15=my_dict[\"drib_reactions\"],posts16=my_dict[\"drib_ball_control\"],posts17=my_dict[\"drib_dribbling\"],posts18=my_dict[\"drib_composure\"],posts19=my_dict[\"shooting\"],posts20=my_dict[\"shoot_positioning\"],posts21=my_dict[\"shoot_finishing\"],posts22=my_dict[\"shoot_shot_power\"],posts23=my_dict[\"shoot_long_shots\"],posts24=my_dict[\"shoot_volleys\"],posts25=my_dict[\"shoot_penalties\"],posts26=my_dict[\"passing\"],posts27=my_dict[\"pass_vision\"],posts28=my_dict[\"pass_crossing\"],posts29=my_dict[\"pass_free_kick\"],posts30=my_dict[\"pass_short\"],posts31=my_dict[\"pass_long\"],posts32=my_dict[\"pass_curve\"],posts33=my_dict[\"defending\"],posts34=my_dict[\"def_interceptions\"],posts35=my_dict[\"def_heading\"],posts36=my_dict[\"def_marking\"],posts37=my_dict[\"def_stand_tackle\"],posts38=my_dict[\"def_slid_tackle\"],posts39=my_dict[\"physicality\"],posts40=my_dict[\"phys_jumping\"],posts41=my_dict[\"phys_stamina\"],posts42=my_dict[\"phys_strength\"],posts43=my_dict[\"phys_aggression\"],posts44=my_dict[\"gk_diving\"],posts45=my_dict[\"gk_reflexes\"],posts46=my_dict[\"gk_handling\"],posts47=my_dict[\"gk_speed\"],posts48=my_dict[\"gk_kicking\"],posts49=my_dict[\"gk_positoning\"],posts50=my_dict[\"pref_foot\"],posts51=my_dict[\"att_workrate\"],posts52=my_dict[\"def_workrate\"],posts53=my_dict[\"weak_foot\"],posts54=my_dict[\"skill_moves\"],posts55=my_dict[\"cb\"],posts56=my_dict[\"rb\"],posts57=my_dict[\"lb\"],posts58=my_dict[\"rwb\"],posts59=my_dict[\"lwb\"],posts60=my_dict[\"cdm\"],posts61=my_dict[\"cm\"],posts62=my_dict[\"rm\"],posts63=my_dict[\"lm\"],posts64=my_dict[\"cam\"],posts65=my_dict[\"cf\"],posts66=my_dict[\"rf\"],posts67=my_dict[\"lf\"],posts68=my_dict[\"rw\"],posts69=my_dict[\"lw\"],posts70=my_dict[\"st\"],posts71=my_dict[\"age\"],posts72=my_dict[\"height\"],posts73=my_dict[\"weight\"])\n",
    "            else:\n",
    "                filename = 'overall_model'\n",
    "                infile = open(filename,'rb')\n",
    "                model = pickle.load(infile)\n",
    "                infile.close()          \n",
    "                columnList = defaultdict(list)\n",
    "                for col in my_df.columns:\n",
    "                    columnList[col]+=[request.form[col]]            \n",
    "                predict_for=pd.DataFrame(columnList)           \n",
    "                predict_for['quality']=list(uni_qual).index(predict_for['quality'][0])\n",
    "                predict_for['position']=list(uni_pos).index(predict_for['position'][0])\n",
    "                predict_for['pref_foot']=list(uni_foot).index(predict_for['pref_foot'][0])\n",
    "                predict_for['def_workrate']=list(uni_def).index(predict_for['def_workrate'][0])\n",
    "                predict_for['att_workrate']=list(uni_att).index(predict_for['att_workrate'][0])\n",
    "                predict_for = predict_for.fillna(0)\n",
    "                predict_for=predict_for.astype(float)\n",
    "                foverall=model.predict(predict_for)\n",
    "                foverall=round(float(foverall),2)\n",
    "                return render_template('index.html',score=foverall)\n",
    "\n",
    "        else:\n",
    "            text1 = request.form['Player Name']\n",
    "            filename = 'player_index'\n",
    "            infile = open(filename,'rb')\n",
    "            new_dict = pickle.load(infile)\n",
    "            infile.close()\n",
    "\n",
    "            def get_index(x):\n",
    "                search = df2[df2['player_name']==x]\n",
    "                if search.size==0:\n",
    "                    return -1\n",
    "                return search.index.tolist()[0]\n",
    "\n",
    "            def recommend_me(player):\n",
    "                index =  get_index(player)\n",
    "                if index==-1:\n",
    "                    return [\"Player not available\"]\n",
    "                recomm=[]\n",
    "                for i in new_dict[index][1:]:\n",
    "                    recomm.append(df2.iloc[i]['player_name'])\n",
    "                return recomm\n",
    "            rec=recommend_me(text1)\n",
    "            if len(rec)==1:\n",
    "                return render_template('index.html', posts1=rec[0],posts2=\"\",posts3=\"\",posts4=\"\",posts5=\"\")\n",
    "            else:\n",
    "                return render_template('index.html',posts1=rec[0],posts2=rec[1],posts3=rec[2],posts4=rec[3],posts5=rec[4])\n",
    "\n",
    "if __name__ == \"__main__\":\n",
    "    app.run()"
   ]
  },
  {
   "cell_type": "markdown",
   "metadata": {},
   "source": [
    "##### 4) The following code can be used to pass a test file with player records and their skills, and predict overall score of each player, to test the model. You just need to change the file name/path in the below pd.read_csv() method."
   ]
  },
  {
   "cell_type": "code",
   "execution_count": null,
   "metadata": {},
   "outputs": [],
   "source": [
    "testdata = pd.read_csv(\"fifa19_test.csv\")\n",
    "my_dftest=testdata[['quality','age','height', 'weight','position','intl_rep','pace', 'pace_acceleration', 'pace_sprint_speed',\n",
    "       'dribbling', 'drib_agility', 'drib_balance', 'drib_reactions',\n",
    "       'drib_ball_control', 'drib_dribbling', 'drib_composure', 'shooting',\n",
    "       'shoot_positioning', 'shoot_finishing', 'shoot_shot_power',\n",
    "       'shoot_long_shots', 'shoot_volleys', 'shoot_penalties', 'passing',\n",
    "       'pass_vision', 'pass_crossing', 'pass_free_kick', 'pass_short',\n",
    "       'pass_long', 'pass_curve', 'defending', 'def_interceptions',\n",
    "       'def_heading', 'def_marking', 'def_stand_tackle', 'def_slid_tackle',\n",
    "       'physicality', 'phys_jumping', 'phys_stamina', 'phys_strength',\n",
    "       'phys_aggression', 'gk_diving', 'gk_reflexes', 'gk_handling',\n",
    "       'gk_speed', 'gk_kicking', 'gk_positoning','pref_foot', 'att_workrate',\n",
    "       'def_workrate', 'weak_foot', 'skill_moves','cb', 'rb', 'lb', 'rwb',\n",
    "       'lwb', 'cdm', 'cm', 'rm', 'lm', 'cam', 'cf', 'rf', 'lf', 'rw', 'lw',\n",
    "       'st']]\n",
    "my_dftest=my_dftest.fillna(0)\n",
    "ytest=testdata['overall']\n",
    "\n",
    "def factorize_column(dftest, column, uniques):\n",
    "    dftest[column] = list(uniques).index(dftest[column])\n",
    "    return dftest\n",
    "\n",
    "my_dftest = my_dftest.apply(factorize_column, axis=1, args =('quality', uni_qual))\n",
    "my_dftest = my_dftest.apply(factorize_column, axis=1, args =('position', uni_pos))\n",
    "my_dftest = my_dftest.apply(factorize_column, axis=1, args = ('pref_foot', uni_foot))\n",
    "my_dftest = my_dftest.apply(factorize_column, axis=1, args = ('def_workrate', uni_def))\n",
    "my_dftest = my_dftest.apply(factorize_column, axis=1, args = ('att_workrate', uni_att))\n",
    "\n",
    "y_test_predictions = estimator.predict(my_dftest)\n",
    "from sklearn.metrics import r2_score, mean_squared_error\n",
    "def evaluate(model,y_predict, y_test):\n",
    "    print(model)\n",
    "    r2=r2_score(y_test,y_predict)\n",
    "    rms= mean_squared_error(y_test,y_predict)\n",
    "    print(\"R2 score:\",r2)\n",
    "    print(\"RMSE score:\",rms)\n",
    "    return r2,rms\n",
    "evaluate(\"keras\",y_test_predictions,ytest)"
   ]
  }
 ],
 "metadata": {
  "kernelspec": {
   "display_name": "Python 3",
   "language": "python",
   "name": "python3"
  },
  "language_info": {
   "codemirror_mode": {
    "name": "ipython",
    "version": 3
   },
   "file_extension": ".py",
   "mimetype": "text/x-python",
   "name": "python",
   "nbconvert_exporter": "python",
   "pygments_lexer": "ipython3",
   "version": "3.6.7"
  }
 },
 "nbformat": 4,
 "nbformat_minor": 2
}
