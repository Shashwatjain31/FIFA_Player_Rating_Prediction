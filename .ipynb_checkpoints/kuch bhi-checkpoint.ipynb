{
 "cells": [
  {
   "cell_type": "code",
   "execution_count": 35,
   "metadata": {},
   "outputs": [
    {
     "name": "stdout",
     "output_type": "stream",
     "text": [
      " * Serving Flask app \"__main__\" (lazy loading)\n",
      " * Environment: production\n",
      "   WARNING: Do not use the development server in a production environment.\n",
      "   Use a production WSGI server instead.\n",
      " * Debug mode: off\n"
     ]
    },
    {
     "name": "stderr",
     "output_type": "stream",
     "text": [
      " * Running on http://127.0.0.1:5000/ (Press CTRL+C to quit)\n",
      "127.0.0.1 - - [07/May/2019 19:58:22] \"GET / HTTP/1.1\" 200 -\n",
      "127.0.0.1 - - [07/May/2019 19:58:22] \"GET /css/bootstrap.min.css HTTP/1.1\" 404 -\n",
      "127.0.0.1 - - [07/May/2019 19:58:22] \"GET /css/font-awesome.min.css HTTP/1.1\" 404 -\n",
      "127.0.0.1 - - [07/May/2019 19:58:22] \"GET /css/style.css HTTP/1.1\" 404 -\n",
      "127.0.0.1 - - [07/May/2019 19:58:22] \"GET /css/animate.css HTTP/1.1\" 404 -\n",
      "127.0.0.1 - - [07/May/2019 19:58:22] \"GET /js/jquery.min.js HTTP/1.1\" 404 -\n",
      "127.0.0.1 - - [07/May/2019 19:58:22] \"GET /js/jquery.easing.min.js HTTP/1.1\" 404 -\n",
      "127.0.0.1 - - [07/May/2019 19:58:22] \"GET /js/bootstrap.min.js HTTP/1.1\" 404 -\n",
      "127.0.0.1 - - [07/May/2019 19:58:22] \"GET /js/wow.js HTTP/1.1\" 404 -\n",
      "127.0.0.1 - - [07/May/2019 19:58:22] \"GET /js/custom.js HTTP/1.1\" 404 -\n",
      "127.0.0.1 - - [07/May/2019 19:58:22] \"GET /contactform/contactform.js HTTP/1.1\" 404 -\n",
      "/anaconda3/lib/python3.7/site-packages/sklearn/preprocessing/data.py:645: DataConversionWarning: Data with input dtype int64 were all converted to float64 by StandardScaler.\n",
      "  return self.partial_fit(X, y)\n",
      "/anaconda3/lib/python3.7/site-packages/sklearn/base.py:464: DataConversionWarning: Data with input dtype int64 were all converted to float64 by StandardScaler.\n",
      "  return self.fit(X, **fit_params).transform(X)\n",
      "127.0.0.1 - - [07/May/2019 19:59:11] \"POST / HTTP/1.1\" 200 -\n",
      "127.0.0.1 - - [07/May/2019 19:59:11] \"GET /css/bootstrap.min.css HTTP/1.1\" 404 -\n",
      "127.0.0.1 - - [07/May/2019 19:59:11] \"GET /css/animate.css HTTP/1.1\" 404 -\n",
      "127.0.0.1 - - [07/May/2019 19:59:11] \"GET /css/font-awesome.min.css HTTP/1.1\" 404 -\n",
      "127.0.0.1 - - [07/May/2019 19:59:11] \"GET /js/bootstrap.min.js HTTP/1.1\" 404 -\n",
      "127.0.0.1 - - [07/May/2019 19:59:11] \"GET /js/jquery.min.js HTTP/1.1\" 404 -\n",
      "127.0.0.1 - - [07/May/2019 19:59:11] \"GET /js/jquery.easing.min.js HTTP/1.1\" 404 -\n",
      "127.0.0.1 - - [07/May/2019 19:59:11] \"GET /css/style.css HTTP/1.1\" 404 -\n",
      "127.0.0.1 - - [07/May/2019 19:59:11] \"GET /js/wow.js HTTP/1.1\" 404 -\n",
      "127.0.0.1 - - [07/May/2019 19:59:11] \"GET /js/custom.js HTTP/1.1\" 404 -\n",
      "127.0.0.1 - - [07/May/2019 19:59:11] \"GET /contactform/contactform.js HTTP/1.1\" 404 -\n",
      "127.0.0.1 - - [07/May/2019 19:59:11] \"GET /js/jquery.easing.min.js HTTP/1.1\" 404 -\n",
      "127.0.0.1 - - [07/May/2019 19:59:11] \"GET /js/bootstrap.min.js HTTP/1.1\" 404 -\n",
      "127.0.0.1 - - [07/May/2019 19:59:11] \"GET /js/wow.js HTTP/1.1\" 404 -\n",
      "127.0.0.1 - - [07/May/2019 19:59:12] \"GET /js/custom.js HTTP/1.1\" 404 -\n",
      "127.0.0.1 - - [07/May/2019 19:59:12] \"GET /contactform/contactform.js HTTP/1.1\" 404 -\n"
     ]
    }
   ],
   "source": [
    "import pandas as pd\n",
    "from flask import Flask\n",
    "from flask import request\n",
    "from flask import render_template\n",
    "\n",
    "app = Flask(__name__, template_folder = 'Bethany')\n",
    "\n",
    "data = pd.read_csv('FIFA19 - Ultimate Team players.csv')\n",
    "\n",
    "@app.route('/', methods=['GET', 'POST'])\n",
    "# @app.route('/index', methods=['GET', 'POST'])\n",
    "def index():\n",
    "    if request.method == 'GET':\n",
    "        return render_template('index.html')\n",
    "    else:\n",
    "        text1 = request.form['Player Name']\n",
    "        my_df=data[['quality','position','intl_rep','pace', 'pace_acceleration', 'pace_sprint_speed',\n",
    "       'dribbling', 'drib_agility', 'drib_balance', 'drib_reactions',\n",
    "       'drib_ball_control', 'drib_dribbling', 'drib_composure', 'shooting',\n",
    "       'shoot_positioning', 'shoot_finishing', 'shoot_shot_power',\n",
    "       'shoot_long_shots', 'shoot_volleys', 'shoot_penalties', 'passing',\n",
    "       'pass_vision', 'pass_crossing', 'pass_free_kick', 'pass_short',\n",
    "       'pass_long', 'pass_curve', 'defending', 'def_interceptions',\n",
    "       'def_heading', 'def_marking', 'def_stand_tackle', 'def_slid_tackle',\n",
    "       'physicality', 'phys_jumping', 'phys_stamina', 'phys_strength',\n",
    "       'phys_aggression', 'gk_diving', 'gk_reflexes', 'gk_handling',\n",
    "       'gk_speed', 'gk_kicking', 'gk_positoning', 'cb', 'rb', 'lb', 'rwb',\n",
    "       'lwb', 'cdm', 'cm', 'rm', 'lm', 'cam', 'cf', 'rf', 'lf', 'rw', 'lw',\n",
    "       'st','pref_foot', 'att_workrate',\n",
    "       'def_workrate', 'weak_foot', 'skill_moves']]\n",
    "        \n",
    "        my_df = my_df.fillna(0)\n",
    "        my_df['quality']=pd.factorize(my_df['quality'])[0]\n",
    "        my_df['position']=pd.factorize(my_df['position'])[0]\n",
    "        my_df['pref_foot']=pd.factorize(my_df['pref_foot'])[0]\n",
    "        my_df['def_workrate']=pd.factorize(my_df['def_workrate'])[0]\n",
    "        my_df['att_workrate']=pd.factorize(my_df['att_workrate'])[0]\n",
    "        my_df = my_df.astype(int)\n",
    "\n",
    "        from sklearn.preprocessing import StandardScaler\n",
    "        scaled = StandardScaler()\n",
    "        X = scaled.fit_transform(my_df)\n",
    "        \n",
    "        from sklearn.neighbors import NearestNeighbors\n",
    "        recommendations = NearestNeighbors(n_neighbors=6,algorithm='ball_tree')\n",
    "        recommendations.fit(X)\n",
    "        \n",
    "        player_index = recommendations.kneighbors(X)[1]\n",
    "        \n",
    "        def get_index(x):\n",
    "            return data[data['player_name']==x].index.tolist()[0]\n",
    "\n",
    "        def recommend_me(player):\n",
    "#             print(\"5 Players similar to {} are : \".format(player))\n",
    "            index=  get_index(player)\n",
    "            recomm=[]\n",
    "            for i in player_index[index][1:]:\n",
    "                recomm.append(data.iloc[i]['player_name'])\n",
    "            return recomm\n",
    "        rec=recommend_me(text1)\n",
    "        return render_template('index.html', posts=rec[4])\n",
    "\n",
    "if __name__ == \"__main__\":\n",
    "    app.run()"
   ]
  },
  {
   "cell_type": "code",
   "execution_count": 3,
   "metadata": {},
   "outputs": [],
   "source": []
  },
  {
   "cell_type": "code",
   "execution_count": 9,
   "metadata": {},
   "outputs": [],
   "source": []
  },
  {
   "cell_type": "code",
   "execution_count": 12,
   "metadata": {},
   "outputs": [],
   "source": [
    "\n"
   ]
  }
 ],
 "metadata": {
  "kernelspec": {
   "display_name": "Python 3",
   "language": "python",
   "name": "python3"
  },
  "language_info": {
   "codemirror_mode": {
    "name": "ipython",
    "version": 3
   },
   "file_extension": ".py",
   "mimetype": "text/x-python",
   "name": "python",
   "nbconvert_exporter": "python",
   "pygments_lexer": "ipython3",
   "version": "3.7.3"
  }
 },
 "nbformat": 4,
 "nbformat_minor": 2
}
